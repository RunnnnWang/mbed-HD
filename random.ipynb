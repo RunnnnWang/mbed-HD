{
 "cells": [
  {
   "cell_type": "code",
   "execution_count": 25,
   "metadata": {},
   "outputs": [],
   "source": [
    "import librosa\n",
    "import numpy as np\n",
    "import pandas as pd\n",
    "import os\n",
    "import sys\n",
    "from torch.utils.data import Dataset\n",
    "from tqdm import tqdm\n",
    "import matplotlib.pyplot as plt\n",
    "\n",
    "from torch.utils.data import DataLoader\n",
    "from sklearn.metrics import f1_score\n",
    "from sklearn.metrics import accuracy_score\n",
    "from sklearn.metrics.pairwise import cosine_similarity\n",
    "from sklearn.metrics import confusion_matrix\n",
    "import seaborn as sns\n",
    "import torch\n",
    "\n",
    "from sklearn.model_selection import train_test_split"
   ]
  },
  {
   "cell_type": "code",
   "execution_count": 26,
   "metadata": {},
   "outputs": [
    {
     "name": "stdout",
     "output_type": "stream",
     "text": [
      "2280\n"
     ]
    }
   ],
   "source": [
    "\n",
    "count = 0\n",
    "all_data = []\n",
    "all_label = []\n",
    "for subdir, dirs, files in os.walk(\"BDLib\"):\n",
    "    for file in files:\n",
    "        filepath = os.path.join(subdir, file)\n",
    "        if file.endswith('.DS_Store'):\n",
    "            continue  # Skip this file\n",
    "        # print(filepath)\n",
    "        if 'airplane' in filepath:\n",
    "            label = 0\n",
    "        if 'alarms' in filepath:\n",
    "            label = 1\n",
    "        if 'applause' in filepath:\n",
    "            label = 2\n",
    "        if 'birds' in filepath:\n",
    "            label = 3\n",
    "        if 'dogs' in filepath:\n",
    "            label = 4\n",
    "        if 'footsteps' in filepath:\n",
    "            label = 5\n",
    "        if 'motorcycles' in filepath:\n",
    "            label = 6\n",
    "        if 'rain' in filepath:\n",
    "            label = 7\n",
    "        if 'rivers' in filepath:\n",
    "            label = 8\n",
    "        if 'seawaves' in filepath:\n",
    "            label = 9\n",
    "        if 'thunderstorm' in filepath:\n",
    "            label = 10\n",
    "        if 'wind' in filepath:\n",
    "            label = 11\n",
    "\n",
    "        wav, sr = librosa.load(filepath, sr=44100)\n",
    "        step_num = int((44100 * 1) / 2)\n",
    "\n",
    "        ind = 0\n",
    "        # print(\"shape of each wav\" + str(wav.shape))\n",
    "        while ind + step_num + step_num <= wav.shape[0]:  #add one second, smaller than the total amount of second\n",
    "            frame = wav[ind:ind+step_num+step_num]        #frame of 1 second\n",
    "            ind = ind + step_num                          #go on for half a second\n",
    "            count = count + 1                             #\n",
    "            hop_length = 44100 // 100                     #for every 10ms\n",
    "\n",
    "            melspec = librosa.feature.melspectrogram(y=frame, sr=44100, hop_length=hop_length)\n",
    "            melspec = librosa.power_to_db(melspec, ref=np.max)\n",
    "            m1 = np.mean(melspec,axis = 1) # 128 X 1\n",
    "            m2 = np.std(melspec,axis = 1)  # 128 X 1\n",
    "\n",
    "            feature_list = [m1,m2] \n",
    "            features = np.concatenate([feature.flatten() for feature in feature_list])\n",
    "\n",
    "            all_data.append(features)\n",
    "            all_label.append(label)\n",
    "\n",
    "print(count)"
   ]
  },
  {
   "cell_type": "code",
   "execution_count": 30,
   "metadata": {},
   "outputs": [
    {
     "ename": "AttributeError",
     "evalue": "'list' object has no attribute 'tolist'",
     "output_type": "error",
     "traceback": [
      "\u001b[0;31m---------------------------------------------------------------------------\u001b[0m",
      "\u001b[0;31mAttributeError\u001b[0m                            Traceback (most recent call last)",
      "Cell \u001b[0;32mIn[30], line 6\u001b[0m\n\u001b[1;32m      2\u001b[0m \u001b[38;5;28;01mimport\u001b[39;00m \u001b[38;5;21;01mnumpy\u001b[39;00m \u001b[38;5;28;01mas\u001b[39;00m \u001b[38;5;21;01mnp\u001b[39;00m\n\u001b[1;32m      5\u001b[0m \u001b[38;5;28;01mfor\u001b[39;00m i \u001b[38;5;129;01min\u001b[39;00m \u001b[38;5;28mrange\u001b[39m(\u001b[38;5;241m2280\u001b[39m):\n\u001b[0;32m----> 6\u001b[0m   all_data[i] \u001b[38;5;241m=\u001b[39m all_data[i]\u001b[38;5;241m.\u001b[39mtolist()\n\u001b[1;32m      8\u001b[0m \u001b[38;5;66;03m#print(type(all_data[0]))\u001b[39;00m\n\u001b[1;32m      9\u001b[0m \n\u001b[1;32m     10\u001b[0m \u001b[38;5;66;03m# print(all_data.shape)\u001b[39;00m\n\u001b[1;32m     12\u001b[0m \u001b[38;5;28;01mwith\u001b[39;00m \u001b[38;5;28mopen\u001b[39m(\u001b[38;5;124m'\u001b[39m\u001b[38;5;124mdataNew.json\u001b[39m\u001b[38;5;124m'\u001b[39m, \u001b[38;5;124m'\u001b[39m\u001b[38;5;124mw\u001b[39m\u001b[38;5;124m'\u001b[39m) \u001b[38;5;28;01mas\u001b[39;00m json_file:\n",
      "\u001b[0;31mAttributeError\u001b[0m: 'list' object has no attribute 'tolist'"
     ]
    }
   ],
   "source": [
    "import json\n",
    "import numpy as np\n",
    "\n",
    "\n",
    "for i in range(2280):\n",
    "  all_data[i] = all_data[i].tolist()\n",
    "\n",
    "#print(type(all_data[0]))\n",
    "\n",
    "\n",
    "with open('dataNew.json', 'w') as json_file:\n",
    "  json.dump(all_data, json_file, indent=4)"
   ]
  },
  {
   "cell_type": "code",
   "execution_count": null,
   "metadata": {},
   "outputs": [],
   "source": []
  },
  {
   "cell_type": "code",
   "execution_count": 37,
   "metadata": {},
   "outputs": [
    {
     "name": "stdout",
     "output_type": "stream",
     "text": [
      "256\n"
     ]
    }
   ],
   "source": [
    "with open('label.json', 'w') as json_file:\n",
    "  json.dump(all_label, json_file, indent=4)\n",
    "\n",
    "print(len(all_data[0]))"
   ]
  },
  {
   "cell_type": "code",
   "execution_count": 36,
   "metadata": {},
   "outputs": [
    {
     "name": "stdout",
     "output_type": "stream",
     "text": [
      "256\n"
     ]
    }
   ],
   "source": [
    "X_train, X_test, y_train, y_test = train_test_split(all_data, all_label, test_size=0.2, random_state=42, shuffle = True) #y is the label, x is the input\n",
    "with open('Xtrain.json', 'w') as json_file:\n",
    "    json.dump(X_train, json_file, indent=4)\n",
    "with open('Xtest.json', 'w') as json_file:\n",
    "    json.dump(X_test, json_file, indent=4)\n",
    "with open('Ytrain.json', 'w') as json_file:\n",
    "    json.dump(y_train, json_file, indent=4)\n",
    "with open('Ytest.json', 'w') as json_file:\n",
    "    json.dump(y_test, json_file, indent=4)\n"
   ]
  },
  {
   "cell_type": "code",
   "execution_count": null,
   "metadata": {},
   "outputs": [
    {
     "data": {
      "text/plain": [
       "0.9890350877192983"
      ]
     },
     "execution_count": 7,
     "metadata": {},
     "output_type": "execute_result"
    }
   ],
   "source": [
    "from sklearn.pipeline import make_pipeline\n",
    "from sklearn.preprocessing import StandardScaler\n",
    "from sklearn.svm import SVC\n",
    "clf = make_pipeline(StandardScaler(), SVC(gamma='auto',kernel='linear'))\n",
    "clf.fit(X_train, y_train)\n",
    "sum(clf.predict(X_test) == y_test) / len(y_test)"
   ]
  },
  {
   "cell_type": "code",
   "execution_count": null,
   "metadata": {},
   "outputs": [],
   "source": [
    "class linear_random_projection:\n",
    "    def __init__(self,in_dim,out_dim):\n",
    "        self.in_dim = in_dim\n",
    "        self.out_dim = out_dim\n",
    "        self.init_projection()\n",
    "\n",
    "    def init_projection(self):\n",
    "        self.projection = np.random.normal(0, 1, size=(self.out_dim, self.in_dim))\n",
    "        self.projection = np.sign(self.projection)\n",
    "        with open('projection.json', 'w') as json_file:\n",
    "            json.dump(self.projection.tolist(), json_file, indent=4)\n",
    "        print(self.projection.shape)\n",
    "\n",
    "    def encode(self,x):\n",
    "        # print(self.projection.shape)\n",
    "        # print(x.shape)\n",
    "        enc = self.projection @ x\n",
    "        # print(enc.shape)\n",
    "        enc = enc.squeeze()\n",
    "        # print(enc.shape)\n",
    "        return np.sign(enc)"
   ]
  },
  {
   "cell_type": "code",
   "execution_count": null,
   "metadata": {},
   "outputs": [],
   "source": []
  },
  {
   "cell_type": "code",
   "execution_count": null,
   "metadata": {},
   "outputs": [],
   "source": [
    "class hd_model:\n",
    "    def __init__(self,X_train, X_test, y_train, y_test ,in_dim,out_dim,lr):\n",
    "        \n",
    "        scaler = StandardScaler()\n",
    "        scaler.fit(X_train)\n",
    "        \n",
    "        self.X_train = scaler.transform(X_train)\n",
    "        self.X_test = scaler.transform(X_test)\n",
    "        self.y_train = y_train\n",
    "        self.y_test = y_test\n",
    "        # print(\"X_train - mean:\" + str(np.array(X_train).mean()) + \", \\nsum:\" + str(np.sum(np.array(X_train))) + \", std:\" + str(np.array(X_train).std()) + \", \\nsize: \" + str(np.array(X_train).size) + \", shape:\" + str(self.X_train.shape))\n",
    "        # print(\"X_test - mean:\" + str(np.array(X_test).mean()) + \", \\nsum:\" + str(np.sum(np.array(X_test))) + \", std:\" + str(np.array(X_test).std()) + \", \\nsize: \" + str(np.array(X_test).size) + \", shape:\" + str(self.X_test.shape))\n",
    "        # print(\"self.X_train - mean:\" + str(self.X_train.mean()) + \", \\nsum:\" + str(np.sum(self.X_train)) + \", std:\" + str(self.X_train.std()) + \", \\nsize: \" + str(self.X_train.size) + \", shape:\" + str(self.X_train.shape))\n",
    "        # print(\"y_train - mean:\" + str(np.array(y_train).mean()) + \", \\nsum:\" + str(np.array(y_train).sum()) + \", std:\" + str(np.array(y_train).std())  + \", \\nsize: \" + str(np.array(y_train).size) + \", shape:\" + str(np.array(y_train).shape))\n",
    "        # print(\"self.X_test - mean:\" + str(self.X_test.mean()) + \", \\nsum:\" + str(self.X_test.sum()) + \", std:\" + str(self.X_test.std()) + \", \\nsize: \" + str(self.X_test.size) + \", shape:\" + str(self.X_test.shape))\n",
    "        # print(\"y_test - mean:\" + str(np.array(y_test).mean()) + \", \\nsum:\" + str(np.array(y_test).sum()) + \", std:\" + str(np.array(y_test).std()) + \", \\nsize: \" + str(np.array(y_test).size) + \", shape:\" + str(np.array(y_test).shape))\n",
    "        \n",
    "        self.in_dim = in_dim\n",
    "        self.out_dim = out_dim\n",
    "        self.lr = lr\n",
    "\n",
    "        self.encoder = linear_random_projection(self.in_dim,self.out_dim)\n",
    "        self.class_hvs = np.zeros((12,self.out_dim))\n",
    "        \n",
    "        self.train_encs = []\n",
    "    \n",
    "    def train_(self):\n",
    "        n_train = len(self.X_train)\n",
    "        for i in range(n_train):\n",
    "            sample = self.X_train[i]\n",
    "            label = self.y_train[i]\n",
    "            enc = self.encoder.encode(sample)\n",
    "            similarities = cosine_similarity(enc.reshape(1, -1), self.class_hvs)[0]\n",
    "            pred = np.argmax(similarities)\n",
    "            # print(\"largest similarity? \")\n",
    "            # print(np.max(similarities))\n",
    "            # print(enc.shape)\n",
    "            # print(np.dot(enc, self.class_hvs[pred]))\n",
    "            # print(np.linalg.norm(self.class_hvs))\n",
    "            # print(np.linalg.norm(enc))\n",
    "            self.class_hvs[label] +=  enc\n",
    "            self.class_hvs[pred] -= enc\n",
    "            self.train_encs.append(enc)\n",
    "        \n",
    "    \n",
    "    def test_(self):\n",
    "        preds = []\n",
    "                           \n",
    "        n_test = len(self.X_test)\n",
    "        for i in range(n_test):\n",
    "            sample = self.X_test[i]\n",
    "            label = self.y_test[i]\n",
    "            enc = self.encoder.encode(sample)\n",
    "            similarities = cosine_similarity(enc.reshape(1, -1), self.class_hvs)[0]\n",
    "            pred = np.argmax(similarities)\n",
    "            preds.append(pred)\n",
    "        \n",
    "        print(\"================================\")\n",
    "        print(accuracy_score(self.y_test, preds))\n",
    "        print(f1_score(self.y_test, preds, average=\"weighted\"))\n",
    "        cm = confusion_matrix(self.y_test, preds,labels=[0,1,2,3,4,5,6,7,8,9,10,11])\n",
    "        # print(cm)\n",
    "        sns.heatmap(cm, annot=True)\n",
    "        print(\"================================\")\n",
    "\n",
    "\n",
    "\n",
    "\n",
    "    def retrain(self):\n",
    "        for e in range(10):\n",
    "            count = 0\n",
    "            # print(e)\n",
    "            for i in range(len(self.train_encs)):\n",
    "                enc = self.train_encs[i]\n",
    "                label = self.y_train[i]\n",
    "                similarities = cosine_similarity(enc.reshape(1, -1), self.class_hvs)[0]\n",
    "                pred = np.argmax(similarities)\n",
    "                if pred != label:\n",
    "                    self.class_hvs[label] += enc\n",
    "                    self.class_hvs[pred] -= enc\n",
    "                    count += 1\n",
    "            # print(count)"
   ]
  },
  {
   "cell_type": "code",
   "execution_count": null,
   "metadata": {},
   "outputs": [],
   "source": []
  },
  {
   "cell_type": "markdown",
   "metadata": {},
   "source": []
  },
  {
   "cell_type": "code",
   "execution_count": 59,
   "metadata": {},
   "outputs": [
    {
     "name": "stdout",
     "output_type": "stream",
     "text": [
      "(7000, 256)\n",
      "================================\n",
      "0.9013157894736842\n",
      "0.9024719110873818\n",
      "================================\n"
     ]
    },
    {
     "data": {
      "image/png": "[encoded data removed]",
      "text/plain": [
       "<Figure size 640x480 with 2 Axes>"
      ]
     },
     "metadata": {},
     "output_type": "display_data"
    }
   ],
   "source": [
    "model = hd_model(X_train, X_test, y_train, y_test,256,10000,1)\n",
    "with open('projection.txt', 'w') as f:\n",
    "    for row in model.encoder.projection:\n",
    "        f.write(\" \".join(map(str, row)) + '\\n')\n",
    "# print(model.encoder.projection.shape)\n",
    "\n",
    "model.train_()\n",
    "with open('classEncoding.txt', 'w') as f:\n",
    "    for row in model.class_hvs:\n",
    "        f.write(\" \".join(map(str, row)) + '\\n')\n",
    "model.test_()"
   ]
  },
  {
   "cell_type": "code",
   "execution_count": 60,
   "metadata": {},
   "outputs": [
    {
     "name": "stdout",
     "output_type": "stream",
     "text": [
      "================================\n",
      "0.9671052631578947\n",
      "0.9670576018253552\n",
      "================================\n"
     ]
    },
    {
     "data": {
      "image/png": "[encoded data removed]",
      "text/plain": [
       "<Figure size 640x480 with 2 Axes>"
      ]
     },
     "metadata": {},
     "output_type": "display_data"
    }
   ],
   "source": [
    "model.retrain()\n",
    "model.test_()"
   ]
  },
  {
   "cell_type": "code",
   "execution_count": 61,
   "metadata": {},
   "outputs": [
    {
     "data": {
      "text/plain": [
       "array([[  3., -11.,   5., ...,   5.,  15.,  13.],\n",
       "       [ -9.,   3.,   1., ...,  -3.,  -5.,   5.],\n",
       "       [  0.,  -8.,   0., ...,  14.,   2.,  12.],\n",
       "       ...,\n",
       "       [ -3., -23.,  -3., ...,  37., -31.,  -9.],\n",
       "       [ -6.,  10.,   8., ...,   8.,   0.,   2.],\n",
       "       [-14.,  26., -12., ..., -28., -12.,  -2.]])"
      ]
     },
     "execution_count": 61,
     "metadata": {},
     "output_type": "execute_result"
    }
   ],
   "source": [
    "model.class_hvs"
   ]
  }
 ],
 "metadata": {
  "kernelspec": {
   "display_name": "Python 3",
   "language": "python",
   "name": "python3"
  },
  "language_info": {
   "codemirror_mode": {
    "name": "ipython",
    "version": 3
   },
   "file_extension": ".py",
   "mimetype": "text/x-python",
   "name": "python",
   "nbconvert_exporter": "python",
   "pygments_lexer": "ipython3",
   "version": "3.11.7"
  }
 },
 "nbformat": 4,
 "nbformat_minor": 2
}
