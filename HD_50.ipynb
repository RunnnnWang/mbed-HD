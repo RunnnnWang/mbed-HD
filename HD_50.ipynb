{
 "cells": [
  {
   "cell_type": "code",
   "execution_count": 1,
   "metadata": {},
   "outputs": [
    {
     "name": "stderr",
     "output_type": "stream",
     "text": [
      "/Library/Frameworks/Python.framework/Versions/3.7/lib/python3.7/site-packages/tqdm/auto.py:21: TqdmWarning: IProgress not found. Please update jupyter and ipywidgets. See https://ipywidgets.readthedocs.io/en/stable/user_install.html\n",
      "  from .autonotebook import tqdm as notebook_tqdm\n"
     ]
    }
   ],
   "source": [
    "import librosa\n",
    "import numpy as np\n",
    "import pandas as pd\n",
    "import os\n",
    "import sys\n",
    "from torch.utils.data import Dataset\n",
    "from tqdm import tqdm\n",
    "import matplotlib.pyplot as plt\n",
    "import torch\n",
    "from torch.utils.data import Dataset\n",
    "from torch.utils.data import DataLoader\n",
    "\n",
    "from torch.utils.data import DataLoader\n",
    "from sklearn.metrics import f1_score\n",
    "from sklearn.metrics import accuracy_score\n",
    "from sklearn.metrics.pairwise import cosine_similarity\n",
    "from sklearn.metrics import confusion_matrix\n",
    "import seaborn as sns\n",
    "\n",
    "from sklearn.model_selection import train_test_split\n",
    "import copy"
   ]
  },
  {
   "cell_type": "code",
   "execution_count": 73,
   "metadata": {},
   "outputs": [],
   "source": [
    "def get_features_double(file_path):   \n",
    "\n",
    "    wav, sr = librosa.load(file_path, sr=44100)\n",
    "    sample_num = 44100\n",
    "    data = []\n",
    "    data2 = []\n",
    "\n",
    "    #step_num = int((44100 * 1) / 2)\n",
    "    step_num = int((44100 * 1) / 1)\n",
    "    hop_length = 44100 // 25\n",
    "    count = 0\n",
    "    \n",
    "    \n",
    "    ind = 0\n",
    "    half_length = (wav.shape[0]) // 2\n",
    "    while ind + step_num + step_num <= half_length:\n",
    "        frame = wav[ind:ind+step_num+step_num]\n",
    "        ind = ind + step_num\n",
    "        count = count + 1\n",
    "            \n",
    "        melspec = librosa.feature.melspectrogram(y=frame, sr=44100, hop_length=hop_length)\n",
    "        melspec = librosa.power_to_db(melspec, ref=np.max)\n",
    "        \n",
    "        #logamplitude = librosa.amplitude_to_db(melspec)\n",
    "        #mfcc = librosa.feature.mfcc(S=logamplitude, n_mfcc=13)\n",
    "        #zcr = librosa.feature.zero_crossing_rate(y=frame,frame_length=44100, hop_length=hop_length, center=True)\n",
    "        #rms = librosa.feature.rms(y=frame, S=None, frame_length=44100, hop_length=hop_length, center=True, pad_mode='constant')\n",
    "        #sc = librosa.feature.spectral_centroid(y=frame, sr=44100, S=None, n_fft=44100, hop_length=hop_length, freq=None, win_length=None, window='hann', center=True, pad_mode='constant')\n",
    "        #sb = librosa.feature.spectral_bandwidth(y=frame, sr=44100, S=None, n_fft=44100, hop_length=hop_length, win_length=None, window='hann', center=True, pad_mode='constant', freq=None, centroid=None, norm=True, p=2)\n",
    "        #srp = librosa.feature.spectral_rolloff(y=frame, sr=44100, S=None, n_fft=44100, hop_length=hop_length, win_length=None, window='hann', center=True, pad_mode='constant', freq=None, roll_percent=0.85)\n",
    "        #chroma = librosa.feature.chroma_stft(y=frame, sr=44100, S=None, norm=np.inf, n_fft=44100, hop_length=hop_length, win_length=None, window='hann', center=True, pad_mode='constant', tuning=None, n_chroma=12)\n",
    "        #sct = librosa.feature.spectral_contrast(y=frame, sr=44100, S=None, n_fft=44100, hop_length=hop_length, win_length=None, window='hann', center=True, pad_mode='constant', freq=None, fmin=200.0, n_bands=6, quantile=0.02, linear=False)\n",
    "            \n",
    "        #print(melspec.shape)\n",
    "        m1 = np.mean(melspec,axis = 1)\n",
    "        m2 = np.std(melspec,axis = 1)\n",
    "            \n",
    "        #print(mfcc.shape)\n",
    "        #f1 = np.mean(mfcc,axis = 1)\n",
    "        #f2 = np.std(mfcc,axis = 1)\n",
    "            \n",
    "        #print(zcr.shape)\n",
    "        #f3 = np.mean(zcr,axis = 1)\n",
    "        #f4 = np.std(zcr,axis = 1)\n",
    "\n",
    "        #print(rms.shape)\n",
    "        #f5 = np.mean(rms,axis = 1)\n",
    "        #f6 = np.std(rms,axis = 1)\n",
    "            \n",
    "        #print(sc.shape)\n",
    "        #f7 = np.mean(sc,axis = 1)\n",
    "        #f8 = np.std(sc,axis = 1)\n",
    "            \n",
    "        #print(sb.shape)\n",
    "        #f9 = np.mean(sb,axis = 1)\n",
    "        #f10 = np.std(sb,axis = 1)\n",
    "            \n",
    "        #print(srp.shape)\n",
    "        #f11 = np.mean(srp,axis = 1)\n",
    "        #f12 = np.std(srp,axis = 1)\n",
    "            \n",
    "        #print(chroma.shape)\n",
    "        #f13 = np.mean(chroma,axis = 1)\n",
    "        #f14 = np.std(chroma,axis = 1)\n",
    "            \n",
    "        #print(sct.shape)\n",
    "        #f15 = np.mean(sct,axis = 1)\n",
    "        #f16 = np.std(sct,axis = 1)\n",
    "            \n",
    "        feature_list = [m1,m2]\n",
    "        features = np.concatenate([feature.flatten() for feature in feature_list])\n",
    "    \n",
    "        data.append(features)\n",
    "    \n",
    "    while ind + step_num + step_num <= wav.shape[0]:\n",
    "        frame = wav[ind:ind+step_num+step_num]\n",
    "        ind = ind + step_num\n",
    "        count = count + 1\n",
    "            \n",
    "        melspec = librosa.feature.melspectrogram(y=frame, sr=44100, hop_length=hop_length)\n",
    "        melspec = librosa.power_to_db(melspec, ref=np.max)\n",
    "        \n",
    "        \n",
    "        m1 = np.mean(melspec,axis = 1)\n",
    "        m2 = np.std(melspec,axis = 1)\n",
    "        \n",
    "        feature_list = [m1,m2]\n",
    "        features = np.concatenate([feature.flatten() for feature in feature_list])\n",
    "    \n",
    "        data2.append(features)\n",
    "        \n",
    "    \n",
    "    \n",
    "    return data, data2"
   ]
  },
  {
   "cell_type": "code",
   "execution_count": 84,
   "metadata": {},
   "outputs": [],
   "source": [
    "def get_features(file_path):   \n",
    "\n",
    "    wav, sr = librosa.load(file_path, sr=44100)\n",
    "    sample_num = 44100\n",
    "    data = []\n",
    "\n",
    "    step_num = int((44100 * 1) / 2)\n",
    "    hop_length = 44100 // 50\n",
    "    count = 0\n",
    "    \n",
    "    \n",
    "    ind = 0\n",
    "    while ind + step_num + step_num <= wav.shape[0]:\n",
    "        frame = wav[ind:ind+step_num+step_num]\n",
    "        ind = ind + step_num\n",
    "        count = count + 1\n",
    "            \n",
    "        melspec = librosa.feature.melspectrogram(y=frame, sr=44100, hop_length=hop_length)\n",
    "        melspec = librosa.power_to_db(melspec, ref=np.max)\n",
    "        \n",
    "        #logamplitude = librosa.amplitude_to_db(melspec)\n",
    "        #mfcc = librosa.feature.mfcc(S=logamplitude, n_mfcc=13)\n",
    "        #zcr = librosa.feature.zero_crossing_rate(y=frame,frame_length=44100, hop_length=hop_length, center=True)\n",
    "        #rms = librosa.feature.rms(y=frame, S=None, frame_length=44100, hop_length=hop_length, center=True, pad_mode='constant')\n",
    "        #sc = librosa.feature.spectral_centroid(y=frame, sr=44100, S=None, n_fft=44100, hop_length=hop_length, freq=None, win_length=None, window='hann', center=True, pad_mode='constant')\n",
    "        #sb = librosa.feature.spectral_bandwidth(y=frame, sr=44100, S=None, n_fft=44100, hop_length=hop_length, win_length=None, window='hann', center=True, pad_mode='constant', freq=None, centroid=None, norm=True, p=2)\n",
    "        #srp = librosa.feature.spectral_rolloff(y=frame, sr=44100, S=None, n_fft=44100, hop_length=hop_length, win_length=None, window='hann', center=True, pad_mode='constant', freq=None, roll_percent=0.85)\n",
    "        #chroma = librosa.feature.chroma_stft(y=frame, sr=44100, S=None, norm=np.inf, n_fft=44100, hop_length=hop_length, win_length=None, window='hann', center=True, pad_mode='constant', tuning=None, n_chroma=12)\n",
    "        #sct = librosa.feature.spectral_contrast(y=frame, sr=44100, S=None, n_fft=44100, hop_length=hop_length, win_length=None, window='hann', center=True, pad_mode='constant', freq=None, fmin=200.0, n_bands=6, quantile=0.02, linear=False)\n",
    "            \n",
    "        #print(melspec.shape)\n",
    "        m1 = np.mean(melspec,axis = 1)\n",
    "        m2 = np.std(melspec,axis = 1)\n",
    "            \n",
    "        #print(mfcc.shape)\n",
    "        #f1 = np.mean(mfcc,axis = 1)\n",
    "        #f2 = np.std(mfcc,axis = 1)\n",
    "            \n",
    "        #print(zcr.shape)\n",
    "        #f3 = np.mean(zcr,axis = 1)\n",
    "        #f4 = np.std(zcr,axis = 1)\n",
    "\n",
    "        #print(rms.shape)\n",
    "        #f5 = np.mean(rms,axis = 1)\n",
    "        #f6 = np.std(rms,axis = 1)\n",
    "            \n",
    "        #print(sc.shape)\n",
    "        #f7 = np.mean(sc,axis = 1)\n",
    "        #f8 = np.std(sc,axis = 1)\n",
    "            \n",
    "        #print(sb.shape)\n",
    "        #f9 = np.mean(sb,axis = 1)\n",
    "        #f10 = np.std(sb,axis = 1)\n",
    "            \n",
    "        #print(srp.shape)\n",
    "        #f11 = np.mean(srp,axis = 1)\n",
    "        #f12 = np.std(srp,axis = 1)\n",
    "            \n",
    "        #print(chroma.shape)\n",
    "        #f13 = np.mean(chroma,axis = 1)\n",
    "        #f14 = np.std(chroma,axis = 1)\n",
    "            \n",
    "        #print(sct.shape)\n",
    "        #f15 = np.mean(sct,axis = 1)\n",
    "        #f16 = np.std(sct,axis = 1)\n",
    "            \n",
    "        feature_list = [m1,m2]\n",
    "        features = np.concatenate([feature.flatten() for feature in feature_list])\n",
    "    \n",
    "        data.append(features)\n",
    "    \n",
    "    return data"
   ]
  },
  {
   "cell_type": "code",
   "execution_count": 18,
   "metadata": {},
   "outputs": [
    {
     "name": "stdout",
     "output_type": "stream",
     "text": [
      "2000\n"
     ]
    }
   ],
   "source": []
  },
  {
   "cell_type": "code",
   "execution_count": 85,
   "metadata": {},
   "outputs": [
    {
     "name": "stdout",
     "output_type": "stream",
     "text": [
      "2000\n"
     ]
    },
    {
     "name": "stderr",
     "output_type": "stream",
     "text": [
      "100%|██████████| 2000/2000 [01:01<00:00, 32.69it/s]\n"
     ]
    }
   ],
   "source": [
    "all_data = []\n",
    "all_labels = []\n",
    "df = pd.read_csv('ESC-50-master/meta/esc50.csv')\n",
    "out_col = 'category'\n",
    "in_col = 'filename'\n",
    "c2i = {}\n",
    "i2c = {}\n",
    "num_classes = 50\n",
    "#df = df[df['esc10']]\n",
    "categories = sorted(df[out_col].unique())\n",
    "for i, category in enumerate(categories):\n",
    "    c2i[category] = i\n",
    "    i2c[i] = category\n",
    "        \n",
    "folder_path = 'ESC-50-master/audio'\n",
    "print(len(df))\n",
    "for ind in tqdm(range(len(df))):\n",
    "    row = df.iloc[ind]\n",
    "    file_path = os.path.join(folder_path, row[in_col])\n",
    "    new_data = get_features(file_path)\n",
    "    new_label = [c2i[row['category']]] * len(new_data)\n",
    "    all_data.extend(new_data)\n",
    "    #print(len(new_label))\n",
    "    all_labels.extend(new_label)"
   ]
  },
  {
   "cell_type": "code",
   "execution_count": 86,
   "metadata": {},
   "outputs": [
    {
     "name": "stdout",
     "output_type": "stream",
     "text": [
      "18000\n",
      "18000\n"
     ]
    }
   ],
   "source": [
    "print(len(all_data))\n",
    "print(len(all_labels))\n"
   ]
  },
  {
   "cell_type": "code",
   "execution_count": 87,
   "metadata": {},
   "outputs": [],
   "source": [
    "X_train, X_test, y_train, y_test = train_test_split(all_data, all_labels, test_size=0.2, random_state=42)"
   ]
  },
  {
   "cell_type": "code",
   "execution_count": 88,
   "metadata": {},
   "outputs": [
    {
     "name": "stdout",
     "output_type": "stream",
     "text": [
      "14400\n",
      "3600\n"
     ]
    }
   ],
   "source": [
    "print(len(X_train))\n",
    "print(len(X_test))"
   ]
  },
  {
   "cell_type": "code",
   "execution_count": 89,
   "metadata": {},
   "outputs": [
    {
     "data": {
      "text/plain": [
       "0.7638888888888888"
      ]
     },
     "execution_count": 89,
     "metadata": {},
     "output_type": "execute_result"
    }
   ],
   "source": [
    "from sklearn.pipeline import make_pipeline\n",
    "from sklearn.preprocessing import StandardScaler\n",
    "from sklearn.svm import SVC\n",
    "clf = make_pipeline(StandardScaler(), SVC(gamma='auto',kernel='linear'))\n",
    "clf.fit(X_train, y_train)\n",
    "sum(clf.predict(X_test) == y_test) / len(y_test)"
   ]
  },
  {
   "cell_type": "code",
   "execution_count": 90,
   "metadata": {},
   "outputs": [
    {
     "name": "stdout",
     "output_type": "stream",
     "text": [
      "14400\n"
     ]
    }
   ],
   "source": [
    "print(len(X_train))"
   ]
  },
  {
   "cell_type": "code",
   "execution_count": 91,
   "metadata": {},
   "outputs": [],
   "source": [
    "class linear_random_projection:\n",
    "    def __init__(self,in_dim,out_dim):\n",
    "        self.in_dim = in_dim\n",
    "        self.out_dim = out_dim\n",
    "        self.init_projection()\n",
    "\n",
    "    def init_projection(self):\n",
    "        self.projection = np.random.normal(0, 1, size=(self.out_dim, self.in_dim))\n",
    "        self.projection = np.sign(self.projection)\n",
    "\n",
    "    def encode(self,x):\n",
    "        enc = self.projection @ x\n",
    "        enc = enc.squeeze()\n",
    "        return np.sign(enc)"
   ]
  },
  {
   "cell_type": "code",
   "execution_count": 92,
   "metadata": {},
   "outputs": [],
   "source": [
    "class hd_model:\n",
    "    def __init__(self,X_train, X_test, y_train, y_test ,in_dim,out_dim,lr):\n",
    "        \n",
    "        #scaler = StandardScaler()\n",
    "        #scaler.fit(X_train)\n",
    "        self.X_train = X_train\n",
    "        self.X_test = X_test\n",
    "        #self.X_train = scaler.transform(X_train)\n",
    "        #self.X_test = scaler.transform(X_test)\n",
    "        \n",
    "        self.y_train = y_train\n",
    "        self.y_test = y_test\n",
    "        \n",
    "        self.in_dim = in_dim\n",
    "        self.out_dim = out_dim\n",
    "        self.lr = lr\n",
    "\n",
    "        self.encoder = linear_random_projection(self.in_dim,self.out_dim)\n",
    "        self.class_hvs = np.zeros((50,self.out_dim))\n",
    "        \n",
    "        self.train_encs = []\n",
    "    \n",
    "    def train_(self):\n",
    "        n_train = len(self.X_train)\n",
    "        for i in range(n_train):\n",
    "            sample = self.X_train[i]\n",
    "            label = self.y_train[i]\n",
    "            enc = self.encoder.encode(sample)\n",
    "            similarities = cosine_similarity(enc.reshape(1, -1), self.class_hvs)[0]\n",
    "            pred = np.argmax(similarities)\n",
    "            self.class_hvs[label] += self.lr * (1-similarities[label]) * enc\n",
    "            self.class_hvs[pred] -= self.lr * (1-similarities[pred]) * enc\n",
    "            self.train_encs.append(enc)\n",
    "\n",
    "    \n",
    "    def test_(self):\n",
    "        preds = []\n",
    "                           \n",
    "        n_test = len(self.X_test)\n",
    "        for i in range(n_test):\n",
    "            sample = self.X_test[i]\n",
    "            label = self.y_test[i]\n",
    "            enc = self.encoder.encode(sample)\n",
    "            similarities = cosine_similarity(enc.reshape(1, -1), self.class_hvs)[0]\n",
    "            pred = np.argmax(similarities)\n",
    "            preds.append(pred)\n",
    "        \n",
    "        print(\"================================\")\n",
    "        print(accuracy_score(self.y_test, preds))\n",
    "        print(f1_score(self.y_test, preds, average=\"weighted\"))\n",
    "        cm = confusion_matrix(self.y_test, preds,labels=[0,1,2,3,4,5,6,7,8,9,10,11])\n",
    "        print(cm)\n",
    "        sns.heatmap(cm, annot=True)\n",
    "        print(\"================================\")\n",
    "\n",
    "\n",
    "\n",
    "\n",
    "    def retrain(self):\n",
    "        for e in range(10):\n",
    "            count = 0\n",
    "            print(e)\n",
    "            for i in range(len(self.train_encs)):\n",
    "                enc = self.train_encs[i]\n",
    "                label = self.y_train[i]\n",
    "                similarities = cosine_similarity(enc.reshape(1, -1), self.class_hvs)[0]\n",
    "                pred = np.argmax(similarities)\n",
    "                if pred != label:\n",
    "                    self.class_hvs[label] += self.lr * (1-similarities[label]) * enc\n",
    "                    self.class_hvs[pred] -= self.lr * (1-similarities[pred]) * enc\n",
    "                    count += 1\n",
    "            print(count)"
   ]
  },
  {
   "cell_type": "code",
   "execution_count": 93,
   "metadata": {},
   "outputs": [
    {
     "name": "stdout",
     "output_type": "stream",
     "text": [
      "================================\n",
      "0.5325\n",
      "0.5334721635285415\n",
      "[[14  0  0  0  0  0  0  5  1  0  0  0]\n",
      " [ 8 31  0  0  1  8  1  3  0  0  0  1]\n",
      " [ 2  0 50  0  0  3  0  1  0  0  0  0]\n",
      " [17  0  1 10  0  4  0  1  0  0  0  5]\n",
      " [12  0  0  0 35  5  0  6  1  0  1  3]\n",
      " [10  2  1  0  0 48  0  0  0  0  0  4]\n",
      " [ 0  0  0  0  0  0 59  4  0  0  0  0]\n",
      " [ 0  0  1  0  1  1  0 59  0  0  0  0]\n",
      " [ 1  0  0  0  0  1  0  4 54  0  0  0]\n",
      " [ 2  1  0  0  0  0  2  0  0 46  0 10]\n",
      " [ 3  0  0  0  0  2  0  0  0  0 72  0]\n",
      " [ 0  0  0  0  0  5  0  0  0  0  0 70]]\n",
      "================================\n"
     ]
    },
    {
     "data": {
      "image/png": "[encoded data removed]",
      "text/plain": [
       "<Figure size 640x480 with 2 Axes>"
      ]
     },
     "metadata": {},
     "output_type": "display_data"
    }
   ],
   "source": [
    "model = hd_model(X_train, X_test, y_train, y_test,256,10000,10)\n",
    "model.train_()\n",
    "model.test_()"
   ]
  },
  {
   "cell_type": "code",
   "execution_count": 94,
   "metadata": {},
   "outputs": [
    {
     "name": "stdout",
     "output_type": "stream",
     "text": [
      "0\n",
      "4897\n",
      "1\n",
      "4125\n",
      "2\n",
      "3686\n",
      "3\n",
      "3534\n",
      "4\n",
      "3246\n",
      "5\n",
      "3052\n",
      "6\n",
      "2989\n",
      "7\n",
      "3030\n",
      "8\n",
      "2878\n",
      "9\n",
      "2957\n",
      "================================\n",
      "0.6872222222222222\n",
      "0.6929773283380283\n",
      "[[52  0  0  0  0  0  0  0  0  0  0  0]\n",
      " [ 8 41  0  1  1  0  0  1  0  0  0  0]\n",
      " [ 2  0 57  2  0  1  0  1  0  0  0  0]\n",
      " [17  0  0 28  0  0  0  0  0  0  0  1]\n",
      " [14  0  3  0 31  0  0 14  1  0  0  0]\n",
      " [10  0  0  0  0 46  0  1  0  0  0  1]\n",
      " [ 0  0  0  0  0  0 53  5  0  0  0  0]\n",
      " [ 0  0  0  0  0  0  0 64  0  0  0  0]\n",
      " [ 0  0  0  0  0  0  0  2 61  0  0  1]\n",
      " [ 2  0  0  0  0  0  0  0  0 60  0  1]\n",
      " [ 3  0  0  0  0  0  0  0  0  0 75  0]\n",
      " [ 0  0  0  2  0  0  0  0  0  0  0 72]]\n",
      "================================\n"
     ]
    },
    {
     "data": {
      "image/png": "[encoded data removed]",
      "text/plain": [
       "<Figure size 640x480 with 2 Axes>"
      ]
     },
     "metadata": {},
     "output_type": "display_data"
    }
   ],
   "source": [
    "model.retrain()\n",
    "model.test_()"
   ]
  }
 ],
 "metadata": {
  "kernelspec": {
   "display_name": "Python 3",
   "language": "python",
   "name": "python3"
  },
  "language_info": {
   "codemirror_mode": {
    "name": "ipython",
    "version": 3
   },
   "file_extension": ".py",
   "mimetype": "text/x-python",
   "name": "python",
   "nbconvert_exporter": "python",
   "pygments_lexer": "ipython3",
   "version": "3.7.7"
  }
 },
 "nbformat": 4,
 "nbformat_minor": 2
}
