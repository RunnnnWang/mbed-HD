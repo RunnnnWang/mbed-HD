{
 "cells": [
  {
   "cell_type": "code",
   "execution_count": 1,
   "id": "ee704da0",
   "metadata": {},
   "outputs": [
    {
     "name": "stderr",
     "output_type": "stream",
     "text": [
      "/Library/Frameworks/Python.framework/Versions/3.7/lib/python3.7/site-packages/tqdm/auto.py:21: TqdmWarning: IProgress not found. Please update jupyter and ipywidgets. See https://ipywidgets.readthedocs.io/en/stable/user_install.html\n",
      "  from .autonotebook import tqdm as notebook_tqdm\n"
     ]
    }
   ],
   "source": [
    "import librosa\n",
    "import numpy as np\n",
    "import pandas as pd\n",
    "import os\n",
    "import sys\n",
    "from torch.utils.data import Dataset\n",
    "from tqdm import tqdm\n",
    "import matplotlib.pyplot as plt\n",
    "\n",
    "from torch.utils.data import DataLoader\n",
    "from sklearn.metrics import f1_score\n",
    "from sklearn.metrics import accuracy_score\n",
    "from sklearn.metrics.pairwise import cosine_similarity\n",
    "from sklearn.metrics import confusion_matrix\n",
    "import seaborn as sns\n",
    "import torch\n",
    "\n",
    "from sklearn.model_selection import train_test_split"
   ]
  },
  {
   "cell_type": "code",
   "execution_count": null,
   "id": "0881df83",
   "metadata": {},
   "outputs": [],
   "source": []
  },
  {
   "cell_type": "code",
   "execution_count": 4,
   "id": "aab41766",
   "metadata": {},
   "outputs": [
    {
     "name": "stdout",
     "output_type": "stream",
     "text": [
      "\u001b[34mBDLib\u001b[m\u001b[m/                hd_model.c            \u001b[34mmain.dSYM\u001b[m\u001b[m/\n",
      "BDLib1_reduced.ipynb  hd_model.h            \u001b[34mold_hd_model\u001b[m\u001b[m/\n",
      "cJSON.c               hypervector.json      projection.json\n",
      "cJSON.h               hypervector.txt       projection.txt\n",
      "classEncoding.txt     label.json            random.ipynb\n",
      "data.json             \u001b[31mmain\u001b[m\u001b[m*\n",
      "dataNew.json          main.c\n"
     ]
    }
   ],
   "source": [
    "ls"
   ]
  },
  {
   "cell_type": "code",
   "execution_count": 42,
   "id": "59a54e16",
   "metadata": {},
   "outputs": [
    {
     "name": "stdout",
     "output_type": "stream",
     "text": [
      "2280\n"
     ]
    }
   ],
   "source": [
    "count = 0\n",
    "all_data = []\n",
    "all_label = []\n",
    "for subdir, dirs, files in os.walk(\"BDLib\"):\n",
    "    for file in files:\n",
    "        filepath = os.path.join(subdir, file)\n",
    "        if file.endswith('.DS_Store'):\n",
    "            continue  # Skip this file\n",
    "        # print(filepath)\n",
    "        if 'airplane' in filepath:\n",
    "            label = 0\n",
    "        if 'alarms' in filepath:\n",
    "            label = 1\n",
    "        if 'applause' in filepath:\n",
    "            label = 2\n",
    "        if 'birds' in filepath:\n",
    "            label = 3\n",
    "        if 'dogs' in filepath:\n",
    "            label = 4\n",
    "        if 'footsteps' in filepath:\n",
    "            label = 5\n",
    "        if 'motorcycles' in filepath:\n",
    "            label = 6\n",
    "        if 'rain' in filepath:\n",
    "            label = 7\n",
    "        if 'rivers' in filepath:\n",
    "            label = 8\n",
    "        if 'seawaves' in filepath:\n",
    "            label = 9\n",
    "        if 'thunderstorm' in filepath:\n",
    "            label = 10\n",
    "        if 'wind' in filepath:\n",
    "            label = 11\n",
    "            \n",
    "        wav, sr = librosa.load(filepath, sr=44100)\n",
    "        step_num = int((44100 * 1) / 2)\n",
    "        \n",
    "        ind = 0\n",
    "        while ind + step_num + step_num <= wav.shape[0]:\n",
    "            frame = wav[ind:ind+step_num+step_num]\n",
    "            ind = ind + step_num\n",
    "            count = count + 1\n",
    "            hop_length = 44100 // 100\n",
    "            \n",
    "            melspec = librosa.feature.melspectrogram(y=frame, sr=44100, hop_length=hop_length)\n",
    "            melspec = librosa.power_to_db(melspec, ref=np.max)\n",
    "            m1 = np.mean(melspec,axis = 1)\n",
    "            m2 = np.std(melspec,axis = 1)\n",
    "            \n",
    "            feature_list = [m1,m2]\n",
    "            features = np.concatenate([feature.flatten() for feature in feature_list])\n",
    "            \n",
    "            all_data.append(features)\n",
    "            all_label.append(label)\n",
    "        \n",
    "print(count)"
   ]
  },
  {
   "cell_type": "code",
   "execution_count": 43,
   "id": "fc4ebb45",
   "metadata": {},
   "outputs": [
    {
     "data": {
      "text/plain": [
       "2280"
      ]
     },
     "execution_count": 43,
     "metadata": {},
     "output_type": "execute_result"
    }
   ],
   "source": [
    "len(all_data)"
   ]
  },
  {
   "cell_type": "code",
   "execution_count": 44,
   "id": "6f055fc0",
   "metadata": {},
   "outputs": [
    {
     "data": {
      "text/plain": [
       "2280"
      ]
     },
     "execution_count": 44,
     "metadata": {},
     "output_type": "execute_result"
    }
   ],
   "source": [
    "len(all_label)"
   ]
  },
  {
   "cell_type": "code",
   "execution_count": 45,
   "id": "1c7d010d",
   "metadata": {},
   "outputs": [],
   "source": [
    "X_train, X_test, y_train, y_test = train_test_split(all_data, all_label, test_size=0.3, random_state=42)"
   ]
  },
  {
   "cell_type": "code",
   "execution_count": 46,
   "id": "de81c0d0",
   "metadata": {},
   "outputs": [
    {
     "data": {
      "text/plain": [
       "0.9839181286549707"
      ]
     },
     "execution_count": 46,
     "metadata": {},
     "output_type": "execute_result"
    }
   ],
   "source": [
    "from sklearn.pipeline import make_pipeline\n",
    "from sklearn.preprocessing import StandardScaler\n",
    "from sklearn.svm import SVC\n",
    "clf = make_pipeline(StandardScaler(), SVC(gamma='auto',kernel='linear'))\n",
    "clf.fit(X_train, y_train)\n",
    "sum(clf.predict(X_test) == y_test) / len(y_test)"
   ]
  },
  {
   "cell_type": "code",
   "execution_count": null,
   "id": "9eb57ec3",
   "metadata": {},
   "outputs": [],
   "source": [
    "####################################################################################################\n",
    "####################################################################################################\n",
    "####################################################################################################\n",
    "####################################################################################################"
   ]
  },
  {
   "cell_type": "code",
   "execution_count": 48,
   "id": "e93cc3c3",
   "metadata": {},
   "outputs": [],
   "source": [
    "class linear_random_projection:\n",
    "    def __init__(self,in_dim,out_dim):\n",
    "        self.in_dim = in_dim\n",
    "        self.out_dim = out_dim\n",
    "        self.init_projection()\n",
    "\n",
    "    def init_projection(self):\n",
    "        self.projection = np.random.normal(0, 1, size=(self.out_dim, self.in_dim))\n",
    "        self.projection = np.sign(self.projection)\n",
    "\n",
    "    def encode(self,x):\n",
    "        enc = self.projection @ x\n",
    "        enc = enc.squeeze()\n",
    "        return np.sign(enc)"
   ]
  },
  {
   "cell_type": "code",
   "execution_count": null,
   "id": "97528169",
   "metadata": {},
   "outputs": [],
   "source": []
  },
  {
   "cell_type": "code",
   "execution_count": 49,
   "id": "4a5831b4",
   "metadata": {},
   "outputs": [],
   "source": [
    "class hd_model:\n",
    "    def __init__(self,X_train, X_test, y_train, y_test ,in_dim,out_dim,lr):\n",
    "        \n",
    "        scaler = StandardScaler()\n",
    "        scaler.fit(X_train)\n",
    "        \n",
    "        self.X_train = scaler.transform(X_train)\n",
    "        self.X_test = scaler.transform(X_test)\n",
    "        self.y_train = y_train\n",
    "        self.y_test = y_test\n",
    "        \n",
    "        self.in_dim = in_dim\n",
    "        self.out_dim = out_dim\n",
    "        self.lr = lr\n",
    "\n",
    "        self.encoder = linear_random_projection(self.in_dim,self.out_dim)\n",
    "        self.class_hvs = np.zeros((12,self.out_dim))\n",
    "        \n",
    "        self.train_encs = []\n",
    "    \n",
    "    def train_(self):\n",
    "        n_train = len(self.X_train)\n",
    "        for i in range(n_train):\n",
    "            sample = self.X_train[i]\n",
    "            label = self.y_train[i]\n",
    "            enc = self.encoder.encode(sample)\n",
    "            similarities = cosine_similarity(enc.reshape(1, -1), self.class_hvs)[0]\n",
    "            pred = np.argmax(similarities)\n",
    "            self.class_hvs[label] +=  enc\n",
    "            self.class_hvs[pred] -= enc\n",
    "            self.train_encs.append(enc)\n",
    "\n",
    "    \n",
    "    def test_(self):\n",
    "        preds = []\n",
    "                           \n",
    "        n_test = len(self.X_test)\n",
    "        for i in range(n_test):\n",
    "            sample = self.X_test[i]\n",
    "            label = self.y_test[i]\n",
    "            enc = self.encoder.encode(sample)\n",
    "            similarities = cosine_similarity(enc.reshape(1, -1), self.class_hvs)[0]\n",
    "            pred = np.argmax(similarities)\n",
    "            preds.append(pred)\n",
    "        \n",
    "        print(\"================================\")\n",
    "        print(accuracy_score(self.y_test, preds))\n",
    "        print(f1_score(self.y_test, preds, average=\"weighted\"))\n",
    "        cm = confusion_matrix(self.y_test, preds,labels=[0,1,2,3,4,5,6,7,8,9,10,11])\n",
    "        print(cm)\n",
    "        sns.heatmap(cm, annot=True)\n",
    "        print(\"================================\")\n",
    "\n",
    "\n",
    "\n",
    "\n",
    "    def retrain(self):\n",
    "        for e in range(3):\n",
    "            count = 0\n",
    "            print(e)\n",
    "            for i in range(len(self.train_encs)):\n",
    "                enc = self.train_encs[i]\n",
    "                label = self.y_train[i]\n",
    "                similarities = cosine_similarity(enc.reshape(1, -1), self.class_hvs)[0]\n",
    "                pred = np.argmax(similarities)\n",
    "                if pred != label:\n",
    "                    self.class_hvs[label] += enc\n",
    "                    self.class_hvs[pred] -= enc\n",
    "                    count += 1\n",
    "            print(count)"
   ]
  },
  {
   "cell_type": "code",
   "execution_count": 50,
   "id": "73c76f19",
   "metadata": {},
   "outputs": [
    {
     "data": {
      "text/plain": [
       "(256,)"
      ]
     },
     "execution_count": 50,
     "metadata": {},
     "output_type": "execute_result"
    }
   ],
   "source": [
    "X_train[0].shape"
   ]
  },
  {
   "cell_type": "code",
   "execution_count": 56,
   "id": "a015ddc6",
   "metadata": {},
   "outputs": [
    {
     "name": "stdout",
     "output_type": "stream",
     "text": [
      "================================\n",
      "0.8961988304093568\n",
      "0.8952004367068395\n",
      "[[34  0  0  0  0  0  3  0  0  0  0  8]\n",
      " [ 0 49  0  0  0  1  0  0  0  0  0  0]\n",
      " [ 0  0 61  0  0  0  0  0  0  0  0  0]\n",
      " [ 0  0  0 57  0  0  0  0  0  0  0  1]\n",
      " [ 0  0  0  0 50  3  0  0  0  2  0  0]\n",
      " [ 0  0  0  0  0 60  0  0  0  0  0  0]\n",
      " [ 0  0  0  0  0  0 51  0  0  1  0  1]\n",
      " [ 0  0  3  0  0  0  0 55 10  1  0  2]\n",
      " [ 0  0  0  0  0  0  0  0 53  0  0  0]\n",
      " [ 0  0  0  0  0  0  0  0 13 32  0 10]\n",
      " [ 1  0  0  0  0  0  0  0  0  1 65  0]\n",
      " [ 4  0  0  1  3  0  0  0  0  0  2 46]]\n",
      "================================\n"
     ]
    },
    {
     "data": {
      "image/png": "[encoded data removed]",
      "text/plain": [
       "<Figure size 640x480 with 2 Axes>"
      ]
     },
     "metadata": {},
     "output_type": "display_data"
    }
   ],
   "source": [
    "model = hd_model(X_train, X_test, y_train, y_test,256,10000,1)\n",
    "model.train_()\n",
    "model.test_()"
   ]
  },
  {
   "cell_type": "code",
   "execution_count": 57,
   "id": "69e8d102",
   "metadata": {},
   "outputs": [
    {
     "name": "stdout",
     "output_type": "stream",
     "text": [
      "0\n",
      "128\n",
      "1\n",
      "47\n",
      "2\n",
      "45\n",
      "================================\n",
      "0.9605263157894737\n",
      "0.960489392369688\n",
      "[[44  0  0  0  0  0  0  0  0  0  1  0]\n",
      " [ 0 50  0  0  0  0  0  0  0  0  0  0]\n",
      " [ 1  0 60  0  0  0  0  0  0  0  0  0]\n",
      " [ 0  0  0 58  0  0  0  0  0  0  0  0]\n",
      " [ 0  0  0  0 49  4  0  0  0  0  1  1]\n",
      " [ 0  0  0  3  0 57  0  0  0  0  0  0]\n",
      " [ 0  0  0  0  0  0 52  0  0  1  0  0]\n",
      " [ 0  0  0  0  0  0  0 68  3  0  0  0]\n",
      " [ 0  0  0  0  0  0  0  0 53  0  0  0]\n",
      " [ 0  0  0  0  0  0  0  0  1 52  0  2]\n",
      " [ 1  0  0  0  0  1  0  0  0  0 65  0]\n",
      " [ 4  0  0  1  2  0  0  0  0  0  0 49]]\n",
      "================================\n"
     ]
    },
    {
     "data": {
      "image/png": "[encoded data removed]",
      "text/plain": [
       "<Figure size 640x480 with 2 Axes>"
      ]
     },
     "metadata": {},
     "output_type": "display_data"
    }
   ],
   "source": [
    "model.retrain()\n",
    "model.test_()"
   ]
  },
  {
   "cell_type": "code",
   "execution_count": 53,
   "id": "d0b9a546",
   "metadata": {},
   "outputs": [
    {
     "data": {
      "text/plain": [
       "array([[  7.,  -1.,   9., ...,  -5.,  -1., -19.],\n",
       "       [ 12.,   0.,  -6., ...,   2., -12.,  -2.],\n",
       "       [ 20.,  -6.,  10., ...,  -6.,  -4.,   2.],\n",
       "       ...,\n",
       "       [ -2.,   2.,   2., ...,   6.,   8.,  -8.],\n",
       "       [ -6.,   6.,  -2., ...,   2.,  -2.,  -4.],\n",
       "       [-11.,   3.,   7., ...,  -1.,  15.,  19.]])"
      ]
     },
     "execution_count": 53,
     "metadata": {},
     "output_type": "execute_result"
    }
   ],
   "source": [
    "model.class_hvs"
   ]
  },
  {
   "cell_type": "code",
   "execution_count": null,
   "id": "df90bec9",
   "metadata": {},
   "outputs": [],
   "source": []
  },
  {
   "cell_type": "code",
   "execution_count": null,
   "id": "b1306277",
   "metadata": {},
   "outputs": [],
   "source": []
  },
  {
   "cell_type": "code",
   "execution_count": null,
   "id": "0de27338",
   "metadata": {},
   "outputs": [],
   "source": []
  },
  {
   "cell_type": "code",
   "execution_count": null,
   "id": "3ece9f2c",
   "metadata": {},
   "outputs": [],
   "source": []
  },
  {
   "cell_type": "code",
   "execution_count": null,
   "id": "e15fe91c",
   "metadata": {},
   "outputs": [],
   "source": []
  },
  {
   "cell_type": "code",
   "execution_count": null,
   "id": "24f9118d",
   "metadata": {},
   "outputs": [],
   "source": []
  },
  {
   "cell_type": "code",
   "execution_count": null,
   "id": "95a39c31",
   "metadata": {},
   "outputs": [],
   "source": []
  },
  {
   "cell_type": "code",
   "execution_count": null,
   "id": "6a3639de",
   "metadata": {},
   "outputs": [],
   "source": []
  }
 ],
 "metadata": {
  "kernelspec": {
   "display_name": "Python 3 (ipykernel)",
   "language": "python",
   "name": "python3"
  },
  "language_info": {
   "codemirror_mode": {
    "name": "ipython",
    "version": 3
   },
   "file_extension": ".py",
   "mimetype": "text/x-python",
   "name": "python",
   "nbconvert_exporter": "python",
   "pygments_lexer": "ipython3",
   "version": "3.7.7"
  }
 },
 "nbformat": 4,
 "nbformat_minor": 5
}
