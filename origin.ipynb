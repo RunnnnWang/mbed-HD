{
 "cells": [
  {
   "cell_type": "code",
   "execution_count": 182,
   "id": "ee704da0",
   "metadata": {},
   "outputs": [],
   "source": [
    "import librosa\n",
    "import numpy as np\n",
    "import pandas as pd\n",
    "import os\n",
    "import sys\n",
    "from torch.utils.data import Dataset\n",
    "from tqdm import tqdm\n",
    "import matplotlib.pyplot as plt\n",
    "\n",
    "from torch.utils.data import DataLoader\n",
    "from sklearn.metrics import f1_score\n",
    "from sklearn.metrics import accuracy_score\n",
    "from sklearn.metrics.pairwise import cosine_similarity\n",
    "from sklearn.metrics import confusion_matrix\n",
    "import seaborn as sns\n",
    "import torch\n",
    "\n",
    "from sklearn.model_selection import train_test_split"
   ]
  },
  {
   "cell_type": "code",
   "execution_count": null,
   "id": "0881df83",
   "metadata": {},
   "outputs": [],
   "source": []
  },
  {
   "cell_type": "code",
   "execution_count": null,
   "id": "aab41766",
   "metadata": {},
   "outputs": [],
   "source": []
  },
  {
   "cell_type": "code",
   "execution_count": 183,
   "id": "59a54e16",
   "metadata": {},
   "outputs": [
    {
     "name": "stdout",
     "output_type": "stream",
     "text": [
      "C:\\Users\\stanl\\Desktop\\BDLib1\\BDLib\\airplane\\airplane1.wav\n",
      "C:\\Users\\stanl\\Desktop\\BDLib1\\BDLib\\airplane\\airplane10.wav\n",
      "C:\\Users\\stanl\\Desktop\\BDLib1\\BDLib\\airplane\\airplane2.wav\n",
      "C:\\Users\\stanl\\Desktop\\BDLib1\\BDLib\\airplane\\airplane3.wav\n",
      "C:\\Users\\stanl\\Desktop\\BDLib1\\BDLib\\airplane\\airplane4.wav\n",
      "C:\\Users\\stanl\\Desktop\\BDLib1\\BDLib\\airplane\\airplane5.wav\n",
      "C:\\Users\\stanl\\Desktop\\BDLib1\\BDLib\\airplane\\airplane6.wav\n",
      "C:\\Users\\stanl\\Desktop\\BDLib1\\BDLib\\airplane\\airplane7.wav\n",
      "C:\\Users\\stanl\\Desktop\\BDLib1\\BDLib\\airplane\\airplane8.wav\n",
      "C:\\Users\\stanl\\Desktop\\BDLib1\\BDLib\\airplane\\airplane9.wav\n",
      "C:\\Users\\stanl\\Desktop\\BDLib1\\BDLib\\alarms\\alarms1.wav\n",
      "C:\\Users\\stanl\\Desktop\\BDLib1\\BDLib\\alarms\\alarms10.wav\n",
      "C:\\Users\\stanl\\Desktop\\BDLib1\\BDLib\\alarms\\alarms2.wav\n",
      "C:\\Users\\stanl\\Desktop\\BDLib1\\BDLib\\alarms\\alarms3.wav\n",
      "C:\\Users\\stanl\\Desktop\\BDLib1\\BDLib\\alarms\\alarms4.wav\n",
      "C:\\Users\\stanl\\Desktop\\BDLib1\\BDLib\\alarms\\alarms5.wav\n",
      "C:\\Users\\stanl\\Desktop\\BDLib1\\BDLib\\alarms\\alarms6.wav\n",
      "C:\\Users\\stanl\\Desktop\\BDLib1\\BDLib\\alarms\\alarms7.wav\n",
      "C:\\Users\\stanl\\Desktop\\BDLib1\\BDLib\\alarms\\alarms8.wav\n",
      "C:\\Users\\stanl\\Desktop\\BDLib1\\BDLib\\alarms\\alarms9.wav\n",
      "C:\\Users\\stanl\\Desktop\\BDLib1\\BDLib\\applause\\applause1.wav\n",
      "C:\\Users\\stanl\\Desktop\\BDLib1\\BDLib\\applause\\applause10.wav\n",
      "C:\\Users\\stanl\\Desktop\\BDLib1\\BDLib\\applause\\applause2.wav\n",
      "C:\\Users\\stanl\\Desktop\\BDLib1\\BDLib\\applause\\applause3.wav\n",
      "C:\\Users\\stanl\\Desktop\\BDLib1\\BDLib\\applause\\applause4.wav\n",
      "C:\\Users\\stanl\\Desktop\\BDLib1\\BDLib\\applause\\applause5.wav\n",
      "C:\\Users\\stanl\\Desktop\\BDLib1\\BDLib\\applause\\applause6.wav\n",
      "C:\\Users\\stanl\\Desktop\\BDLib1\\BDLib\\applause\\applause7.wav\n",
      "C:\\Users\\stanl\\Desktop\\BDLib1\\BDLib\\applause\\applause8.wav\n",
      "C:\\Users\\stanl\\Desktop\\BDLib1\\BDLib\\applause\\applause9.wav\n",
      "C:\\Users\\stanl\\Desktop\\BDLib1\\BDLib\\birds\\birds1.wav\n",
      "C:\\Users\\stanl\\Desktop\\BDLib1\\BDLib\\birds\\birds10.wav\n",
      "C:\\Users\\stanl\\Desktop\\BDLib1\\BDLib\\birds\\birds2.wav\n",
      "C:\\Users\\stanl\\Desktop\\BDLib1\\BDLib\\birds\\birds3.wav\n",
      "C:\\Users\\stanl\\Desktop\\BDLib1\\BDLib\\birds\\birds4.wav\n",
      "C:\\Users\\stanl\\Desktop\\BDLib1\\BDLib\\birds\\birds5.wav\n",
      "C:\\Users\\stanl\\Desktop\\BDLib1\\BDLib\\birds\\birds6.wav\n",
      "C:\\Users\\stanl\\Desktop\\BDLib1\\BDLib\\birds\\birds7.wav\n",
      "C:\\Users\\stanl\\Desktop\\BDLib1\\BDLib\\birds\\birds8.wav\n",
      "C:\\Users\\stanl\\Desktop\\BDLib1\\BDLib\\birds\\birds9.wav\n",
      "C:\\Users\\stanl\\Desktop\\BDLib1\\BDLib\\dogs\\dogs1.wav\n",
      "C:\\Users\\stanl\\Desktop\\BDLib1\\BDLib\\dogs\\dogs10.wav\n",
      "C:\\Users\\stanl\\Desktop\\BDLib1\\BDLib\\dogs\\dogs2.wav\n",
      "C:\\Users\\stanl\\Desktop\\BDLib1\\BDLib\\dogs\\dogs3.wav\n",
      "C:\\Users\\stanl\\Desktop\\BDLib1\\BDLib\\dogs\\dogs4.wav\n",
      "C:\\Users\\stanl\\Desktop\\BDLib1\\BDLib\\dogs\\dogs5.wav\n",
      "C:\\Users\\stanl\\Desktop\\BDLib1\\BDLib\\dogs\\dogs6.wav\n",
      "C:\\Users\\stanl\\Desktop\\BDLib1\\BDLib\\dogs\\dogs7.wav\n",
      "C:\\Users\\stanl\\Desktop\\BDLib1\\BDLib\\dogs\\dogs8.wav\n",
      "C:\\Users\\stanl\\Desktop\\BDLib1\\BDLib\\dogs\\dogs9.wav\n",
      "C:\\Users\\stanl\\Desktop\\BDLib1\\BDLib\\footsteps\\footsteps1.wav\n",
      "C:\\Users\\stanl\\Desktop\\BDLib1\\BDLib\\footsteps\\footsteps10.wav\n",
      "C:\\Users\\stanl\\Desktop\\BDLib1\\BDLib\\footsteps\\footsteps2.wav\n",
      "C:\\Users\\stanl\\Desktop\\BDLib1\\BDLib\\footsteps\\footsteps3.wav\n",
      "C:\\Users\\stanl\\Desktop\\BDLib1\\BDLib\\footsteps\\footsteps4.wav\n",
      "C:\\Users\\stanl\\Desktop\\BDLib1\\BDLib\\footsteps\\footsteps5.wav\n",
      "C:\\Users\\stanl\\Desktop\\BDLib1\\BDLib\\footsteps\\footsteps6.wav\n",
      "C:\\Users\\stanl\\Desktop\\BDLib1\\BDLib\\footsteps\\footsteps7.wav\n",
      "C:\\Users\\stanl\\Desktop\\BDLib1\\BDLib\\footsteps\\footsteps8.wav\n",
      "C:\\Users\\stanl\\Desktop\\BDLib1\\BDLib\\footsteps\\footsteps9.wav\n",
      "C:\\Users\\stanl\\Desktop\\BDLib1\\BDLib\\motorcycles\\motorcycles1.wav\n",
      "C:\\Users\\stanl\\Desktop\\BDLib1\\BDLib\\motorcycles\\motorcycles10.wav\n",
      "C:\\Users\\stanl\\Desktop\\BDLib1\\BDLib\\motorcycles\\motorcycles2.wav\n",
      "C:\\Users\\stanl\\Desktop\\BDLib1\\BDLib\\motorcycles\\motorcycles3.wav\n",
      "C:\\Users\\stanl\\Desktop\\BDLib1\\BDLib\\motorcycles\\motorcycles4.wav\n",
      "C:\\Users\\stanl\\Desktop\\BDLib1\\BDLib\\motorcycles\\motorcycles5.wav\n",
      "C:\\Users\\stanl\\Desktop\\BDLib1\\BDLib\\motorcycles\\motorcycles6.wav\n",
      "C:\\Users\\stanl\\Desktop\\BDLib1\\BDLib\\motorcycles\\motorcycles7.wav\n",
      "C:\\Users\\stanl\\Desktop\\BDLib1\\BDLib\\motorcycles\\motorcycles8.wav\n",
      "C:\\Users\\stanl\\Desktop\\BDLib1\\BDLib\\motorcycles\\motorcycles9.wav\n",
      "C:\\Users\\stanl\\Desktop\\BDLib1\\BDLib\\rain\\rain1.wav\n",
      "C:\\Users\\stanl\\Desktop\\BDLib1\\BDLib\\rain\\rain10.wav\n",
      "C:\\Users\\stanl\\Desktop\\BDLib1\\BDLib\\rain\\rain2.wav\n",
      "C:\\Users\\stanl\\Desktop\\BDLib1\\BDLib\\rain\\rain3.wav\n",
      "C:\\Users\\stanl\\Desktop\\BDLib1\\BDLib\\rain\\rain4.wav\n",
      "C:\\Users\\stanl\\Desktop\\BDLib1\\BDLib\\rain\\rain5.wav\n",
      "C:\\Users\\stanl\\Desktop\\BDLib1\\BDLib\\rain\\rain6.wav\n",
      "C:\\Users\\stanl\\Desktop\\BDLib1\\BDLib\\rain\\rain7.wav\n",
      "C:\\Users\\stanl\\Desktop\\BDLib1\\BDLib\\rain\\rain8.wav\n",
      "C:\\Users\\stanl\\Desktop\\BDLib1\\BDLib\\rain\\rain9.wav\n",
      "C:\\Users\\stanl\\Desktop\\BDLib1\\BDLib\\rivers\\rivers1.wav\n",
      "C:\\Users\\stanl\\Desktop\\BDLib1\\BDLib\\rivers\\rivers10.wav\n",
      "C:\\Users\\stanl\\Desktop\\BDLib1\\BDLib\\rivers\\rivers2.wav\n",
      "C:\\Users\\stanl\\Desktop\\BDLib1\\BDLib\\rivers\\rivers3.wav\n",
      "C:\\Users\\stanl\\Desktop\\BDLib1\\BDLib\\rivers\\rivers4.wav\n",
      "C:\\Users\\stanl\\Desktop\\BDLib1\\BDLib\\rivers\\rivers5.wav\n",
      "C:\\Users\\stanl\\Desktop\\BDLib1\\BDLib\\rivers\\rivers6.wav\n",
      "C:\\Users\\stanl\\Desktop\\BDLib1\\BDLib\\rivers\\rivers7.wav\n",
      "C:\\Users\\stanl\\Desktop\\BDLib1\\BDLib\\rivers\\rivers8.wav\n",
      "C:\\Users\\stanl\\Desktop\\BDLib1\\BDLib\\rivers\\rivers9.wav\n",
      "C:\\Users\\stanl\\Desktop\\BDLib1\\BDLib\\seawaves\\seawaves1.wav\n",
      "C:\\Users\\stanl\\Desktop\\BDLib1\\BDLib\\seawaves\\seawaves10.wav\n",
      "C:\\Users\\stanl\\Desktop\\BDLib1\\BDLib\\seawaves\\seawaves2.wav\n",
      "C:\\Users\\stanl\\Desktop\\BDLib1\\BDLib\\seawaves\\seawaves3.wav\n",
      "C:\\Users\\stanl\\Desktop\\BDLib1\\BDLib\\seawaves\\seawaves4.wav\n",
      "C:\\Users\\stanl\\Desktop\\BDLib1\\BDLib\\seawaves\\seawaves5.wav\n",
      "C:\\Users\\stanl\\Desktop\\BDLib1\\BDLib\\seawaves\\seawaves6.wav\n",
      "C:\\Users\\stanl\\Desktop\\BDLib1\\BDLib\\seawaves\\seawaves7.wav\n",
      "C:\\Users\\stanl\\Desktop\\BDLib1\\BDLib\\seawaves\\seawaves8.wav\n",
      "C:\\Users\\stanl\\Desktop\\BDLib1\\BDLib\\seawaves\\seawaves9.wav\n",
      "C:\\Users\\stanl\\Desktop\\BDLib1\\BDLib\\thunderstorm\\thunderstorm1.wav\n",
      "C:\\Users\\stanl\\Desktop\\BDLib1\\BDLib\\thunderstorm\\thunderstorm10.wav\n",
      "C:\\Users\\stanl\\Desktop\\BDLib1\\BDLib\\thunderstorm\\thunderstorm2.wav\n",
      "C:\\Users\\stanl\\Desktop\\BDLib1\\BDLib\\thunderstorm\\thunderstorm3.wav\n",
      "C:\\Users\\stanl\\Desktop\\BDLib1\\BDLib\\thunderstorm\\thunderstorm4.wav\n",
      "C:\\Users\\stanl\\Desktop\\BDLib1\\BDLib\\thunderstorm\\thunderstorm5.wav\n",
      "C:\\Users\\stanl\\Desktop\\BDLib1\\BDLib\\thunderstorm\\thunderstorm6.wav\n",
      "C:\\Users\\stanl\\Desktop\\BDLib1\\BDLib\\thunderstorm\\thunderstorm7.wav\n",
      "C:\\Users\\stanl\\Desktop\\BDLib1\\BDLib\\thunderstorm\\thunderstorm8.wav\n",
      "C:\\Users\\stanl\\Desktop\\BDLib1\\BDLib\\thunderstorm\\thunderstorm9.wav\n",
      "C:\\Users\\stanl\\Desktop\\BDLib1\\BDLib\\wind\\wind1.wav\n",
      "C:\\Users\\stanl\\Desktop\\BDLib1\\BDLib\\wind\\wind10.wav\n",
      "C:\\Users\\stanl\\Desktop\\BDLib1\\BDLib\\wind\\wind2.wav\n",
      "C:\\Users\\stanl\\Desktop\\BDLib1\\BDLib\\wind\\wind3.wav\n",
      "C:\\Users\\stanl\\Desktop\\BDLib1\\BDLib\\wind\\wind4.wav\n",
      "C:\\Users\\stanl\\Desktop\\BDLib1\\BDLib\\wind\\wind5.wav\n",
      "C:\\Users\\stanl\\Desktop\\BDLib1\\BDLib\\wind\\wind6.wav\n",
      "C:\\Users\\stanl\\Desktop\\BDLib1\\BDLib\\wind\\wind7.wav\n",
      "C:\\Users\\stanl\\Desktop\\BDLib1\\BDLib\\wind\\wind8.wav\n",
      "C:\\Users\\stanl\\Desktop\\BDLib1\\BDLib\\wind\\wind9.wav\n",
      "2280\n"
     ]
    }
   ],
   "source": [
    "count = 0\n",
    "all_data = []\n",
    "all_label = []\n",
    "for subdir, dirs, files in os.walk(\"C:\\\\Users\\\\stanl\\\\Desktop\\\\BDLib1\\\\BDLib\"):\n",
    "    for file in files:\n",
    "        filepath = subdir + os.sep + file\n",
    "        print(filepath)\n",
    "        if 'airplane' in filepath:\n",
    "            label = 0\n",
    "        if 'alarms' in filepath:\n",
    "            label = 1\n",
    "        if 'applause' in filepath:\n",
    "            label = 2\n",
    "        if 'birds' in filepath:\n",
    "            label = 3\n",
    "        if 'dogs' in filepath:\n",
    "            label = 4\n",
    "        if 'footsteps' in filepath:\n",
    "            label = 5\n",
    "        if 'motorcycles' in filepath:\n",
    "            label = 6\n",
    "        if 'rain' in filepath:\n",
    "            label = 7\n",
    "        if 'rivers' in filepath:\n",
    "            label = 8\n",
    "        if 'seawaves' in filepath:\n",
    "            label = 9\n",
    "        if 'thunderstorm' in filepath:\n",
    "            label = 10\n",
    "        if 'wind' in filepath:\n",
    "            label = 11\n",
    "            \n",
    "        wav, sr = librosa.load(filepath, sr=44100)\n",
    "        step_num = int((44100 * 1) / 2)\n",
    "        \n",
    "        ind = 0\n",
    "        while ind + step_num + step_num <= wav.shape[0]:\n",
    "            frame = wav[ind:ind+step_num+step_num]\n",
    "            ind = ind + step_num\n",
    "            count = count + 1\n",
    "            hop_length = 44100 // 100\n",
    "            \n",
    "            melspec = librosa.feature.melspectrogram(y=frame, sr=44100, hop_length=hop_length)\n",
    "            m1 = np.mean(melspec,axis = 1)\n",
    "            m2 = np.std(melspec,axis = 1)\n",
    "            \n",
    "            feature_list = [m1,m2]\n",
    "            features = np.concatenate([feature.flatten() for feature in feature_list])\n",
    "            \n",
    "            all_data.append(features)\n",
    "            all_label.append(label)\n",
    "        \n",
    "print(count)"
   ]
  },
  {
   "cell_type": "code",
   "execution_count": 184,
   "id": "fc4ebb45",
   "metadata": {},
   "outputs": [
    {
     "data": {
      "text/plain": [
       "2280"
      ]
     },
     "execution_count": 184,
     "metadata": {},
     "output_type": "execute_result"
    }
   ],
   "source": [
    "len(all_data)"
   ]
  },
  {
   "cell_type": "code",
   "execution_count": 185,
   "id": "6f055fc0",
   "metadata": {},
   "outputs": [
    {
     "data": {
      "text/plain": [
       "2280"
      ]
     },
     "execution_count": 185,
     "metadata": {},
     "output_type": "execute_result"
    }
   ],
   "source": [
    "len(all_label)"
   ]
  },
  {
   "cell_type": "code",
   "execution_count": 186,
   "id": "1c7d010d",
   "metadata": {},
   "outputs": [],
   "source": [
    "X_train, X_test, y_train, y_test = train_test_split(all_data, all_label, test_size=0.3, random_state=42)"
   ]
  },
  {
   "cell_type": "code",
   "execution_count": 187,
   "id": "de81c0d0",
   "metadata": {},
   "outputs": [
    {
     "data": {
      "text/plain": [
       "0.7821637426900585"
      ]
     },
     "execution_count": 187,
     "metadata": {},
     "output_type": "execute_result"
    }
   ],
   "source": [
    "from sklearn.pipeline import make_pipeline\n",
    "from sklearn.preprocessing import StandardScaler\n",
    "from sklearn.svm import SVC\n",
    "clf = make_pipeline(StandardScaler(), SVC(gamma='auto',kernel='linear'))\n",
    "clf.fit(X_train, y_train)\n",
    "sum(clf.predict(X_test) == y_test) / len(y_test)"
   ]
  },
  {
   "cell_type": "code",
   "execution_count": 188,
   "id": "9eb57ec3",
   "metadata": {},
   "outputs": [],
   "source": [
    "####################################################################################################\n",
    "####################################################################################################\n",
    "####################################################################################################\n",
    "####################################################################################################"
   ]
  },
  {
   "cell_type": "code",
   "execution_count": 189,
   "id": "e93cc3c3",
   "metadata": {},
   "outputs": [],
   "source": [
    "class linear_random_projection:\n",
    "    def __init__(self,in_dim,out_dim):\n",
    "        self.in_dim = in_dim\n",
    "        self.out_dim = out_dim\n",
    "        self.init_projection()\n",
    "\n",
    "    def init_projection(self):\n",
    "        self.projection = np.random.normal(0, 1, size=(self.out_dim, self.in_dim))\n",
    "        self.projection = np.sign(self.projection)\n",
    "\n",
    "    def encode(self,x):\n",
    "        enc = self.projection @ x\n",
    "        enc = enc.squeeze()\n",
    "        return np.sign(enc)"
   ]
  },
  {
   "cell_type": "code",
   "execution_count": null,
   "id": "97528169",
   "metadata": {},
   "outputs": [],
   "source": []
  },
  {
   "cell_type": "code",
   "execution_count": 190,
   "id": "4a5831b4",
   "metadata": {},
   "outputs": [],
   "source": [
    "class hd_model:\n",
    "    def __init__(self,X_train, X_test, y_train, y_test ,in_dim,out_dim,lr):\n",
    "        \n",
    "        scaler = StandardScaler()\n",
    "        scaler.fit(X_train)\n",
    "        \n",
    "        self.X_train = scaler.transform(X_train)\n",
    "        self.X_test = scaler.transform(X_test)\n",
    "        self.y_train = y_train\n",
    "        self.y_test = y_test\n",
    "        \n",
    "        self.in_dim = in_dim\n",
    "        self.out_dim = out_dim\n",
    "        self.lr = lr\n",
    "\n",
    "        self.encoder = linear_random_projection(self.in_dim,self.out_dim)\n",
    "        self.class_hvs = np.zeros((12,self.out_dim))\n",
    "        \n",
    "        self.train_encs = []\n",
    "    \n",
    "    def train_(self):\n",
    "        n_train = len(self.X_train)\n",
    "        for i in range(n_train):\n",
    "            sample = self.X_train[i]\n",
    "            label = self.y_train[i]\n",
    "            enc = self.encoder.encode(sample)\n",
    "            similarities = cosine_similarity(enc.reshape(1, -1), self.class_hvs)[0]\n",
    "            pred = np.argmax(similarities)\n",
    "            self.class_hvs[label] +=  enc\n",
    "            self.class_hvs[pred] -= enc\n",
    "            self.train_encs.append(enc)\n",
    "\n",
    "    \n",
    "    def test_(self):\n",
    "        preds = []\n",
    "                           \n",
    "        n_test = len(self.X_test)\n",
    "        for i in range(n_test):\n",
    "            sample = self.X_test[i]\n",
    "            label = self.y_test[i]\n",
    "            enc = self.encoder.encode(sample)\n",
    "            similarities = cosine_similarity(enc.reshape(1, -1), self.class_hvs)[0]\n",
    "            pred = np.argmax(similarities)\n",
    "            preds.append(pred)\n",
    "        \n",
    "        print(\"================================\")\n",
    "        print(accuracy_score(self.y_test, preds))\n",
    "        print(f1_score(self.y_test, preds, average=\"weighted\"))\n",
    "        cm = confusion_matrix(self.y_test, preds,labels=[0,1,2,3,4,5,6,7,8,9,10,11])\n",
    "        print(cm)\n",
    "        sns.heatmap(cm, annot=True)\n",
    "        print(\"================================\")\n",
    "\n",
    "\n",
    "\n",
    "\n",
    "    def retrain(self):\n",
    "        for e in range(3):\n",
    "            count = 0\n",
    "            print(e)\n",
    "            for i in range(len(self.train_encs)):\n",
    "                enc = self.train_encs[i]\n",
    "                label = self.y_train[i]\n",
    "                similarities = cosine_similarity(enc.reshape(1, -1), self.class_hvs)[0]\n",
    "                pred = np.argmax(similarities)\n",
    "                if pred != label:\n",
    "                    self.class_hvs[label] += enc\n",
    "                    self.class_hvs[pred] -= enc\n",
    "                    count += 1\n",
    "            print(count)"
   ]
  },
  {
   "cell_type": "code",
   "execution_count": 191,
   "id": "73c76f19",
   "metadata": {},
   "outputs": [
    {
     "data": {
      "text/plain": [
       "(256,)"
      ]
     },
     "execution_count": 191,
     "metadata": {},
     "output_type": "execute_result"
    }
   ],
   "source": [
    "X_train[0].shape"
   ]
  },
  {
   "cell_type": "code",
   "execution_count": 193,
   "id": "a015ddc6",
   "metadata": {},
   "outputs": [
    {
     "name": "stdout",
     "output_type": "stream",
     "text": [
      "================================\n",
      "0.6593567251461988\n",
      "0.6776878506368412\n",
      "[[16  1  0  0  2 18  3  3  0  2  9  1]\n",
      " [ 0 43  2  0  3 13  0  0  0  0  0  0]\n",
      " [ 0  0 71  0  0  0  0  0  0  0  0  0]\n",
      " [ 1  0  0 45  0  9  0  0  0  0  0  0]\n",
      " [ 0  0  0  0 31 19  0  0  0  0  0  0]\n",
      " [ 0  0  0  0  0 56  0  0  0  0  0  0]\n",
      " [ 1  0  0  0  0 12 37  1  0  0  2  0]\n",
      " [ 6  0  0  0  0  4  0 30  2  3  0  0]\n",
      " [ 0  0  3  1  1  1  1  9 42  0  2  0]\n",
      " [ 0  0  2  0  0 25  0  4  5 21  0  1]\n",
      " [ 0  0  0  0  0 33  2  3  0  0 29  0]\n",
      " [ 0  0  0  0  1 15  0  4  1  0  2 30]]\n",
      "================================\n"
     ]
    },
    {
     "data": {
      "image/png": "[encoded data removed]",
      "text/plain": [
       "<Figure size 432x288 with 2 Axes>"
      ]
     },
     "metadata": {
      "needs_background": "light"
     },
     "output_type": "display_data"
    }
   ],
   "source": [
    "model = hd_model(X_train, X_test, y_train, y_test,256,10000,1)\n",
    "model.train_()\n",
    "model.test_()"
   ]
  },
  {
   "cell_type": "code",
   "execution_count": 206,
   "id": "69e8d102",
   "metadata": {},
   "outputs": [
    {
     "name": "stdout",
     "output_type": "stream",
     "text": [
      "0\n",
      "55\n",
      "1\n",
      "58\n",
      "2\n",
      "45\n",
      "================================\n",
      "0.9005847953216374\n",
      "0.9004863547428188\n",
      "[[51  0  0  0  0  0  0  2  1  1  0  0]\n",
      " [ 0 61  0  0  0  0  0  0  0  0  0  0]\n",
      " [ 0  0 69  0  0  0  0  0  2  0  0  0]\n",
      " [ 0  0  0 53  0  1  0  0  1  0  0  0]\n",
      " [ 1  0  0  2 42  2  1  0  0  0  1  1]\n",
      " [ 0  0  0  4  0 52  0  0  0  0  0  0]\n",
      " [ 1  0  0  1  0  0 51  0  0  0  0  0]\n",
      " [ 0  0  0  1  0  0  0 40  2  2  0  0]\n",
      " [ 0  0  0  1  0  2  0  0 55  1  1  0]\n",
      " [ 1  0  0  4  0  3  0  2  3 44  0  1]\n",
      " [ 7  0  0  2  0  1  5  0  0  0 51  1]\n",
      " [ 3  0  0  0  0  0  0  2  1  0  0 47]]\n",
      "================================\n"
     ]
    },
    {
     "data": {
      "image/png": "[encoded data removed]",
      "text/plain": [
       "<Figure size 432x288 with 2 Axes>"
      ]
     },
     "metadata": {
      "needs_background": "light"
     },
     "output_type": "display_data"
    }
   ],
   "source": [
    "model.retrain()\n",
    "model.test_()"
   ]
  },
  {
   "cell_type": "code",
   "execution_count": 207,
   "id": "d0b9a546",
   "metadata": {},
   "outputs": [
    {
     "data": {
      "text/plain": [
       "array([[  9.,   1.,  35., ...,  21.,  -9.,  -1.],\n",
       "       [  7., -11.,  11., ...,   1.,   1.,  -7.],\n",
       "       [  0.,   8.,   6., ...,  -2.,  -2.,   8.],\n",
       "       ...,\n",
       "       [  3.,   9.,  -9., ...,   3.,  -5.,  -5.],\n",
       "       [  0., -46., -44., ...,  -6.,  12.,  -4.],\n",
       "       [ -4.,   8., -22., ...,   2.,   2., -36.]])"
      ]
     },
     "execution_count": 207,
     "metadata": {},
     "output_type": "execute_result"
    }
   ],
   "source": [
    "model.class_hvs"
   ]
  },
  {
   "cell_type": "code",
   "execution_count": null,
   "id": "df90bec9",
   "metadata": {},
   "outputs": [],
   "source": []
  },
  {
   "cell_type": "code",
   "execution_count": null,
   "id": "b1306277",
   "metadata": {},
   "outputs": [],
   "source": []
  },
  {
   "cell_type": "code",
   "execution_count": null,
   "id": "0de27338",
   "metadata": {},
   "outputs": [],
   "source": []
  },
  {
   "cell_type": "code",
   "execution_count": null,
   "id": "3ece9f2c",
   "metadata": {},
   "outputs": [],
   "source": []
  },
  {
   "cell_type": "code",
   "execution_count": null,
   "id": "e15fe91c",
   "metadata": {},
   "outputs": [],
   "source": []
  },
  {
   "cell_type": "code",
   "execution_count": null,
   "id": "24f9118d",
   "metadata": {},
   "outputs": [],
   "source": []
  },
  {
   "cell_type": "code",
   "execution_count": null,
   "id": "95a39c31",
   "metadata": {},
   "outputs": [],
   "source": []
  },
  {
   "cell_type": "code",
   "execution_count": null,
   "id": "6a3639de",
   "metadata": {},
   "outputs": [],
   "source": []
  }
 ],
 "metadata": {
  "kernelspec": {
   "display_name": "Python 3 (ipykernel)",
   "language": "python",
   "name": "python3"
  },
  "language_info": {
   "codemirror_mode": {
    "name": "ipython",
    "version": 3
   },
   "file_extension": ".py",
   "mimetype": "text/x-python",
   "name": "python",
   "nbconvert_exporter": "python",
   "pygments_lexer": "ipython3",
   "version": "3.8.8"
  }
 },
 "nbformat": 4,
 "nbformat_minor": 5
}
